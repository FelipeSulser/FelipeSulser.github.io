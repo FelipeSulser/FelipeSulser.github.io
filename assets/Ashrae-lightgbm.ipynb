{
 "cells": [
  {
   "cell_type": "code",
   "execution_count": 1,
   "metadata": {},
   "outputs": [
    {
     "name": "stdout",
     "output_type": "stream",
     "text": [
      "Requirement already satisfied: kaggle in /data/anaconda/envs/py35/lib/python3.5/site-packages (1.5.6)\n",
      "Requirement already satisfied: certifi in /data/anaconda/envs/py35/lib/python3.5/site-packages (from kaggle) (2018.8.24)\n",
      "Requirement already satisfied: six>=1.10 in /data/anaconda/envs/py35/lib/python3.5/site-packages (from kaggle) (1.11.0)\n",
      "Requirement already satisfied: requests in /data/anaconda/envs/py35/lib/python3.5/site-packages (from kaggle) (2.18.4)\n",
      "Requirement already satisfied: tqdm in /data/anaconda/envs/py35/lib/python3.5/site-packages (from kaggle) (4.31.1)\n",
      "Requirement already satisfied: python-dateutil in /data/anaconda/envs/py35/lib/python3.5/site-packages (from kaggle) (2.7.5)\n",
      "Requirement already satisfied: python-slugify in /data/anaconda/envs/py35/lib/python3.5/site-packages (from kaggle) (4.0.0)\n",
      "Requirement already satisfied: urllib3<1.25,>=1.21.1 in /data/anaconda/envs/py35/lib/python3.5/site-packages (from kaggle) (1.22)\n",
      "Requirement already satisfied: idna<2.7,>=2.5 in /data/anaconda/envs/py35/lib/python3.5/site-packages (from requests->kaggle) (2.6)\n",
      "Requirement already satisfied: chardet<3.1.0,>=3.0.2 in /data/anaconda/envs/py35/lib/python3.5/site-packages (from requests->kaggle) (3.0.4)\n",
      "Requirement already satisfied: text-unidecode>=1.3 in /data/anaconda/envs/py35/lib/python3.5/site-packages (from python-slugify->kaggle) (1.3)\n",
      "\u001b[33mWARNING: You are using pip version 19.2.2, however version 19.3.1 is available.\n",
      "You should consider upgrading via the 'pip install --upgrade pip' command.\u001b[0m\n"
     ]
    }
   ],
   "source": [
    "!pip install kaggle"
   ]
  },
  {
   "cell_type": "code",
   "execution_count": 3,
   "metadata": {},
   "outputs": [
    {
     "name": "stdout",
     "output_type": "stream",
     "text": [
      "Requirement already satisfied: numpy in /data/anaconda/envs/py35/lib/python3.5/site-packages (1.15.0)\n",
      "\u001b[33mWARNING: You are using pip version 19.2.2, however version 19.3.1 is available.\n",
      "You should consider upgrading via the 'pip install --upgrade pip' command.\u001b[0m\n",
      "Requirement already satisfied: pandas in /data/anaconda/envs/py35/lib/python3.5/site-packages (0.23.0)\n",
      "Requirement already satisfied: python-dateutil>=2.5.0 in /data/anaconda/envs/py35/lib/python3.5/site-packages (from pandas) (2.7.5)\n",
      "Requirement already satisfied: pytz>=2011k in /data/anaconda/envs/py35/lib/python3.5/site-packages (from pandas) (2018.4)\n",
      "Requirement already satisfied: numpy>=1.9.0 in /data/anaconda/envs/py35/lib/python3.5/site-packages (from pandas) (1.15.0)\n",
      "Requirement already satisfied: six>=1.5 in /data/anaconda/envs/py35/lib/python3.5/site-packages (from python-dateutil>=2.5.0->pandas) (1.11.0)\n",
      "\u001b[33mWARNING: You are using pip version 19.2.2, however version 19.3.1 is available.\n",
      "You should consider upgrading via the 'pip install --upgrade pip' command.\u001b[0m\n",
      "Requirement already satisfied: sklearn in /data/anaconda/envs/py35/lib/python3.5/site-packages (0.0)\n",
      "Requirement already satisfied: scikit-learn in /data/anaconda/envs/py35/lib/python3.5/site-packages (from sklearn) (0.20.0)\n",
      "Requirement already satisfied: numpy>=1.8.2 in /data/anaconda/envs/py35/lib/python3.5/site-packages (from scikit-learn->sklearn) (1.15.0)\n",
      "Requirement already satisfied: scipy>=0.13.3 in /data/anaconda/envs/py35/lib/python3.5/site-packages (from scikit-learn->sklearn) (1.1.0)\n",
      "\u001b[33mWARNING: You are using pip version 19.2.2, however version 19.3.1 is available.\n",
      "You should consider upgrading via the 'pip install --upgrade pip' command.\u001b[0m\n",
      "Requirement already satisfied: matplotlib in /data/anaconda/envs/py35/lib/python3.5/site-packages (2.2.2)\n",
      "Requirement already satisfied: numpy>=1.7.1 in /data/anaconda/envs/py35/lib/python3.5/site-packages (from matplotlib) (1.15.0)\n",
      "Requirement already satisfied: cycler>=0.10 in /data/anaconda/envs/py35/lib/python3.5/site-packages (from matplotlib) (0.10.0)\n",
      "Requirement already satisfied: pyparsing!=2.0.4,!=2.1.2,!=2.1.6,>=2.0.1 in /data/anaconda/envs/py35/lib/python3.5/site-packages (from matplotlib) (2.2.0)\n",
      "Requirement already satisfied: python-dateutil>=2.1 in /data/anaconda/envs/py35/lib/python3.5/site-packages (from matplotlib) (2.7.5)\n",
      "Requirement already satisfied: pytz in /data/anaconda/envs/py35/lib/python3.5/site-packages (from matplotlib) (2018.4)\n",
      "Requirement already satisfied: six>=1.10 in /data/anaconda/envs/py35/lib/python3.5/site-packages (from matplotlib) (1.11.0)\n",
      "Requirement already satisfied: kiwisolver>=1.0.1 in /data/anaconda/envs/py35/lib/python3.5/site-packages (from matplotlib) (1.0.1)\n",
      "Requirement already satisfied: setuptools in /data/anaconda/envs/py35/lib/python3.5/site-packages (from kiwisolver>=1.0.1->matplotlib) (40.2.0)\n",
      "\u001b[33mWARNING: You are using pip version 19.2.2, however version 19.3.1 is available.\n",
      "You should consider upgrading via the 'pip install --upgrade pip' command.\u001b[0m\n",
      "Requirement already satisfied: plotly in /data/anaconda/envs/py35/lib/python3.5/site-packages (2.7.0)\n",
      "Requirement already satisfied: nbformat>=4.2 in /data/anaconda/envs/py35/lib/python3.5/site-packages (from plotly) (4.4.0)\n",
      "Requirement already satisfied: pytz in /data/anaconda/envs/py35/lib/python3.5/site-packages (from plotly) (2018.4)\n",
      "Requirement already satisfied: decorator>=4.0.6 in /data/anaconda/envs/py35/lib/python3.5/site-packages (from plotly) (4.3.0)\n",
      "Requirement already satisfied: six in /data/anaconda/envs/py35/lib/python3.5/site-packages (from plotly) (1.11.0)\n",
      "Requirement already satisfied: requests in /data/anaconda/envs/py35/lib/python3.5/site-packages (from plotly) (2.18.4)\n",
      "Requirement already satisfied: ipython_genutils in /data/anaconda/envs/py35/lib/python3.5/site-packages (from nbformat>=4.2->plotly) (0.2.0)\n",
      "Requirement already satisfied: traitlets>=4.1 in /data/anaconda/envs/py35/lib/python3.5/site-packages (from nbformat>=4.2->plotly) (4.3.2)\n",
      "Requirement already satisfied: jsonschema!=2.5.0,>=2.4 in /data/anaconda/envs/py35/lib/python3.5/site-packages (from nbformat>=4.2->plotly) (2.6.0)\n",
      "Requirement already satisfied: jupyter_core in /data/anaconda/envs/py35/lib/python3.5/site-packages (from nbformat>=4.2->plotly) (4.4.0)\n",
      "Requirement already satisfied: certifi>=2017.4.17 in /data/anaconda/envs/py35/lib/python3.5/site-packages (from requests->plotly) (2018.8.24)\n",
      "Requirement already satisfied: idna<2.7,>=2.5 in /data/anaconda/envs/py35/lib/python3.5/site-packages (from requests->plotly) (2.6)\n",
      "Requirement already satisfied: chardet<3.1.0,>=3.0.2 in /data/anaconda/envs/py35/lib/python3.5/site-packages (from requests->plotly) (3.0.4)\n",
      "Requirement already satisfied: urllib3<1.23,>=1.21.1 in /data/anaconda/envs/py35/lib/python3.5/site-packages (from requests->plotly) (1.22)\n",
      "\u001b[33mWARNING: You are using pip version 19.2.2, however version 19.3.1 is available.\n",
      "You should consider upgrading via the 'pip install --upgrade pip' command.\u001b[0m\n"
     ]
    }
   ],
   "source": [
    "!pip install numpy\n",
    "!pip install pandas\n",
    "!pip install sklearn\n",
    "!pip install matplotlib\n",
    "!pip install plotly"
   ]
  },
  {
   "cell_type": "code",
   "execution_count": 4,
   "metadata": {},
   "outputs": [
    {
     "name": "stdout",
     "output_type": "stream",
     "text": [
      "Requirement already satisfied: lightgbm in /data/anaconda/envs/py35/lib/python3.5/site-packages (2.1.2)\n",
      "Requirement already satisfied: numpy in /data/anaconda/envs/py35/lib/python3.5/site-packages (from lightgbm) (1.15.0)\n",
      "Requirement already satisfied: scipy in /data/anaconda/envs/py35/lib/python3.5/site-packages (from lightgbm) (1.1.0)\n",
      "Requirement already satisfied: scikit-learn in /data/anaconda/envs/py35/lib/python3.5/site-packages (from lightgbm) (0.20.0)\n",
      "\u001b[33mWARNING: You are using pip version 19.2.2, however version 19.3.1 is available.\n",
      "You should consider upgrading via the 'pip install --upgrade pip' command.\u001b[0m\n"
     ]
    }
   ],
   "source": [
    "!pip install lightgbm"
   ]
  },
  {
   "cell_type": "code",
   "execution_count": 5,
   "metadata": {},
   "outputs": [
    {
     "name": "stderr",
     "output_type": "stream",
     "text": [
      "/anaconda/envs/py35/lib/python3.5/importlib/_bootstrap.py:222: RuntimeWarning: numpy.dtype size changed, may indicate binary incompatibility. Expected 96, got 88\n",
      "  return f(*args, **kwds)\n",
      "/anaconda/envs/py35/lib/python3.5/importlib/_bootstrap.py:222: RuntimeWarning: numpy.dtype size changed, may indicate binary incompatibility. Expected 96, got 88\n",
      "  return f(*args, **kwds)\n",
      "/anaconda/envs/py35/lib/python3.5/importlib/_bootstrap.py:222: RuntimeWarning: numpy.dtype size changed, may indicate binary incompatibility. Expected 96, got 88\n",
      "  return f(*args, **kwds)\n"
     ]
    }
   ],
   "source": [
    "import gc, math, pickle, datetime, os, random\n",
    "import numpy as np \n",
    "import pandas as pd \n",
    "from sklearn.model_selection import train_test_split\n",
    "from sklearn.metrics import mean_squared_log_error\n",
    "from sklearn.metrics import mean_squared_log_error\n",
    "from sklearn.preprocessing import LabelEncoder\n",
    "import lightgbm as lgb\n",
    "import matplotlib.pyplot as plt\n",
    "import seaborn as sns\n",
    "\n",
    "from pandas.plotting import register_matplotlib_converters\n",
    "register_matplotlib_converters()"
   ]
  },
  {
   "cell_type": "code",
   "execution_count": 6,
   "metadata": {},
   "outputs": [],
   "source": [
    "def reduce_mem_usage(df, verbose=True):\n",
    "    \"\"\"\n",
    "    :param df: Dataframe with columns unprocessed so they use more memory than needed\n",
    "    \n",
    "    :returns:\n",
    "        df -> Dataframe with lower memory use\n",
    "    \"\"\"\n",
    "    numerics = ['int16', 'int32', 'int64', 'float16', 'float32', 'float64']\n",
    "    start_mem = df.memory_usage().sum() / 1024**2    \n",
    "    for col in df.columns:\n",
    "        col_type = df[col].dtypes\n",
    "        if col_type in numerics:\n",
    "            c_min = df[col].min()\n",
    "            c_max = df[col].max()\n",
    "            if str(col_type)[:3] == 'int':\n",
    "                if c_min > np.iinfo(np.int8).min and c_max < np.iinfo(np.int8).max:\n",
    "                    df[col] = df[col].astype(np.int8)\n",
    "                elif c_min > np.iinfo(np.int16).min and c_max < np.iinfo(np.int16).max:\n",
    "                    df[col] = df[col].astype(np.int16)\n",
    "                elif c_min > np.iinfo(np.int32).min and c_max < np.iinfo(np.int32).max:\n",
    "                    df[col] = df[col].astype(np.int32)\n",
    "                elif c_min > np.iinfo(np.int64).min and c_max < np.iinfo(np.int64).max:\n",
    "                    df[col] = df[col].astype(np.int64)  \n",
    "            else:\n",
    "                if c_min > np.finfo(np.float16).min and c_max < np.finfo(np.float16).max:\n",
    "                    df[col] = df[col].astype(np.float16)\n",
    "                elif c_min > np.finfo(np.float32).min and c_max < np.finfo(np.float32).max:\n",
    "                    df[col] = df[col].astype(np.float32)\n",
    "                else:\n",
    "                    df[col] = df[col].astype(np.float64)    \n",
    "    end_mem = df.memory_usage().sum() / 1024**2\n",
    "    if verbose: print('Mem. usage decreased to {:5.2f} Mb ({:.1f}% reduction)'.format(end_mem, 100 * (start_mem - end_mem) / start_mem))\n",
    "    return df\n",
    "\n",
    "def clean_timestamps(df):\n",
    "    \"\"\"\n",
    "    :param df: Dataframe containing a \"timestamp\" field which will be broken down in hour, year, day,...\n",
    "    \"\"\"\n",
    "    df['timestamp'] = pd.to_datetime(df['timestamp'])\n",
    "    df[\"year\"] = df[\"timestamp\"].dt.year.astype(np.uint16)\n",
    "    df[\"month\"] = df[\"timestamp\"].dt.month.astype(np.uint8)\n",
    "    df[\"day\"] = df[\"timestamp\"].dt.day.astype(np.uint8)\n",
    "    df[\"hour\"] = df[\"timestamp\"].dt.hour.astype(np.uint8)\n",
    "    df[\"weekend\"] = df[\"timestamp\"].dt.weekday.astype(np.uint8)\n",
    "    \n",
    "def drop_cols(df):\n",
    "    \"\"\"\n",
    "    :param df: Dataframe with unnecessary cols\n",
    "    \n",
    "    :returns:\n",
    "            df -> dataframe containing only the desired columns\n",
    "    \"\"\"\n",
    "    #drop_cols = ['timestamp','primary_use', 'site_id', 'floor_count',\"precip_depth_1_hr\", \"sea_level_pressure\", \"wind_direction\", \"wind_speed\", \"building_id\"]\n",
    "    drop_cols = ['timestamp']\n",
    "    df = df.drop(drop_cols, axis = 1)\n",
    "    return df\n",
    "\n",
    "# Predictions lower than zero are turned zero\n",
    "def fix_predictions(y):\n",
    "    \"\"\"\n",
    "    :param y: Column with predictions\n",
    "    \"\"\"\n",
    "    y[y < 0] = 0\n",
    "\n",
    "# Predictibility in our predictions\n",
    "def seed_everything(seed=0):\n",
    "    \"\"\"\n",
    "    :param seed: Value for seeding random functions\n",
    "    \"\"\"\n",
    "    random.seed(seed)\n",
    "    np.random.seed(seed)\n",
    "\n",
    "# Fill given categories with their average values\n",
    "def fill_averages(df):\n",
    "    \"\"\"\n",
    "    :param df: Dataframe containing normal and nan values\n",
    "    \"\"\"\n",
    "    data_ratios = df.count()/len(df)\n",
    "    cols = data_ratios[data_ratios < 1.0].index\n",
    "    for col in cols:\n",
    "        df[col] = df[col].fillna(-1)\n",
    "        df[col] = df[col].astype(np.int8)\n",
    "        more_zero = df[col] >= 0\n",
    "        less_zero = df[col] < 0\n",
    "        mean = df[more_zero][col].mean()\n",
    "        df.loc[less_zero, col] = mean"
   ]
  },
  {
   "cell_type": "code",
   "execution_count": 7,
   "metadata": {},
   "outputs": [],
   "source": [
    "SEED = 5\n",
    "seed_everything(SEED)"
   ]
  },
  {
   "cell_type": "markdown",
   "metadata": {},
   "source": [
    "## Download the dataset\n",
    "\n",
    "We need the api keys, either write it down here or export kaggle's json file to ~/.kaggle/kaggle.json"
   ]
  },
  {
   "cell_type": "code",
   "execution_count": null,
   "metadata": {},
   "outputs": [],
   "source": [
    "import os\n",
    "os.environ['KAGGLE_USERNAME'] = \"*****\"\n",
    "os.environ['KAGGLE_KEY'] = \"****\"\n",
    "!kaggle competitions download -c ashrae-energy-prediction\n"
   ]
  },
  {
   "cell_type": "code",
   "execution_count": null,
   "metadata": {},
   "outputs": [],
   "source": [
    "!unzip ashrae-energy-prediction.zip"
   ]
  },
  {
   "cell_type": "code",
   "execution_count": null,
   "metadata": {},
   "outputs": [],
   "source": [
    "!mkdir ashrae-energy-prediction\n",
    "!mv *.csv ashrae-energy-prediction"
   ]
  },
  {
   "cell_type": "code",
   "execution_count": 8,
   "metadata": {},
   "outputs": [
    {
     "name": "stdout",
     "output_type": "stream",
     "text": [
      "Mem. usage decreased to 289.19 Mb (53.1% reduction)\n",
      "Mem. usage decreased to  0.03 Mb (60.3% reduction)\n",
      "Mem. usage decreased to  3.07 Mb (68.1% reduction)\n"
     ]
    }
   ],
   "source": [
    "PATH = 'ashrae-energy-prediction/'\n",
    "train_df = reduce_mem_usage(pd.read_csv(PATH + 'train.csv'))\n",
    "building = reduce_mem_usage(pd.read_csv(PATH + 'building_metadata.csv'))\n",
    "weather_train = reduce_mem_usage(pd.read_csv(PATH + 'weather_train.csv'))\n",
    "\n",
    "train_merged = train_df.merge(building, left_on = \"building_id\", right_on = \"building_id\", how = \"left\")\n",
    "train = train_merged.merge(weather_train, left_on = [\"site_id\", \"timestamp\"], right_on = [\"site_id\", \"timestamp\"])"
   ]
  },
  {
   "cell_type": "code",
   "execution_count": 9,
   "metadata": {},
   "outputs": [
    {
     "name": "stdout",
     "output_type": "stream",
     "text": [
      "Mem. usage decreased to 596.49 Mb (53.1% reduction)\n"
     ]
    }
   ],
   "source": [
    "test = reduce_mem_usage(pd.read_csv(PATH + '/test.csv'))"
   ]
  },
  {
   "cell_type": "code",
   "execution_count": 10,
   "metadata": {},
   "outputs": [
    {
     "name": "stdout",
     "output_type": "stream",
     "text": [
      "(20125605, 16)\n",
      "(41697600, 4)\n"
     ]
    }
   ],
   "source": [
    "print(train.shape)\n",
    "print(test.shape)"
   ]
  },
  {
   "cell_type": "markdown",
   "metadata": {},
   "source": [
    "## Preprocessing"
   ]
  },
  {
   "cell_type": "code",
   "execution_count": 11,
   "metadata": {},
   "outputs": [],
   "source": [
    "clean_timestamps(train)"
   ]
  },
  {
   "cell_type": "markdown",
   "metadata": {},
   "source": [
    "## EDA and Visualizing the Data"
   ]
  },
  {
   "cell_type": "code",
   "execution_count": 12,
   "metadata": {},
   "outputs": [
    {
     "data": {
      "text/html": [
       "<div>\n",
       "<style scoped>\n",
       "    .dataframe tbody tr th:only-of-type {\n",
       "        vertical-align: middle;\n",
       "    }\n",
       "\n",
       "    .dataframe tbody tr th {\n",
       "        vertical-align: top;\n",
       "    }\n",
       "\n",
       "    .dataframe thead th {\n",
       "        text-align: right;\n",
       "    }\n",
       "</style>\n",
       "<table border=\"1\" class=\"dataframe\">\n",
       "  <thead>\n",
       "    <tr style=\"text-align: right;\">\n",
       "      <th></th>\n",
       "      <th>building_id</th>\n",
       "      <th>meter</th>\n",
       "      <th>timestamp</th>\n",
       "      <th>meter_reading</th>\n",
       "      <th>site_id</th>\n",
       "      <th>primary_use</th>\n",
       "      <th>square_feet</th>\n",
       "      <th>year_built</th>\n",
       "      <th>floor_count</th>\n",
       "      <th>air_temperature</th>\n",
       "      <th>...</th>\n",
       "      <th>dew_temperature</th>\n",
       "      <th>precip_depth_1_hr</th>\n",
       "      <th>sea_level_pressure</th>\n",
       "      <th>wind_direction</th>\n",
       "      <th>wind_speed</th>\n",
       "      <th>year</th>\n",
       "      <th>month</th>\n",
       "      <th>day</th>\n",
       "      <th>hour</th>\n",
       "      <th>weekend</th>\n",
       "    </tr>\n",
       "  </thead>\n",
       "  <tbody>\n",
       "    <tr>\n",
       "      <th>0</th>\n",
       "      <td>0</td>\n",
       "      <td>0</td>\n",
       "      <td>2016-01-01</td>\n",
       "      <td>0.0</td>\n",
       "      <td>0</td>\n",
       "      <td>Education</td>\n",
       "      <td>7432</td>\n",
       "      <td>2008.0</td>\n",
       "      <td>NaN</td>\n",
       "      <td>25.0</td>\n",
       "      <td>...</td>\n",
       "      <td>20.0</td>\n",
       "      <td>NaN</td>\n",
       "      <td>1019.5</td>\n",
       "      <td>0.0</td>\n",
       "      <td>0.0</td>\n",
       "      <td>2016</td>\n",
       "      <td>1</td>\n",
       "      <td>1</td>\n",
       "      <td>0</td>\n",
       "      <td>4</td>\n",
       "    </tr>\n",
       "    <tr>\n",
       "      <th>1</th>\n",
       "      <td>1</td>\n",
       "      <td>0</td>\n",
       "      <td>2016-01-01</td>\n",
       "      <td>0.0</td>\n",
       "      <td>0</td>\n",
       "      <td>Education</td>\n",
       "      <td>2720</td>\n",
       "      <td>2004.0</td>\n",
       "      <td>NaN</td>\n",
       "      <td>25.0</td>\n",
       "      <td>...</td>\n",
       "      <td>20.0</td>\n",
       "      <td>NaN</td>\n",
       "      <td>1019.5</td>\n",
       "      <td>0.0</td>\n",
       "      <td>0.0</td>\n",
       "      <td>2016</td>\n",
       "      <td>1</td>\n",
       "      <td>1</td>\n",
       "      <td>0</td>\n",
       "      <td>4</td>\n",
       "    </tr>\n",
       "  </tbody>\n",
       "</table>\n",
       "<p>2 rows × 21 columns</p>\n",
       "</div>"
      ],
      "text/plain": [
       "   building_id  meter  timestamp  meter_reading  site_id primary_use  \\\n",
       "0            0      0 2016-01-01            0.0        0   Education   \n",
       "1            1      0 2016-01-01            0.0        0   Education   \n",
       "\n",
       "   square_feet  year_built  floor_count  air_temperature   ...     \\\n",
       "0         7432      2008.0          NaN             25.0   ...      \n",
       "1         2720      2004.0          NaN             25.0   ...      \n",
       "\n",
       "   dew_temperature  precip_depth_1_hr  sea_level_pressure  wind_direction  \\\n",
       "0             20.0                NaN              1019.5             0.0   \n",
       "1             20.0                NaN              1019.5             0.0   \n",
       "\n",
       "   wind_speed  year  month  day  hour  weekend  \n",
       "0         0.0  2016      1    1     0        4  \n",
       "1         0.0  2016      1    1     0        4  \n",
       "\n",
       "[2 rows x 21 columns]"
      ]
     },
     "execution_count": 12,
     "metadata": {},
     "output_type": "execute_result"
    }
   ],
   "source": [
    "train.head(2)"
   ]
  },
  {
   "cell_type": "code",
   "execution_count": 13,
   "metadata": {},
   "outputs": [
    {
     "data": {
      "image/png": "[encoded data removed]",
      "text/plain": [
       "<Figure size 720x576 with 1 Axes>"
      ]
     },
     "metadata": {},
     "output_type": "display_data"
    }
   ],
   "source": [
    "plt.figure(figsize=(10, 8))\n",
    "sns.countplot(x=\"floor_count\",data=train, order = train['floor_count'].value_counts().index)\n",
    "plt.title('Floor count feature column')\n",
    "plt.tight_layout()\n",
    "plt.show()"
   ]
  },
  {
   "cell_type": "code",
   "execution_count": 14,
   "metadata": {},
   "outputs": [
    {
     "data": {
      "image/png": "[encoded data removed]",
      "text/plain": [
       "<Figure size 720x576 with 1 Axes>"
      ]
     },
     "metadata": {},
     "output_type": "display_data"
    }
   ],
   "source": [
    "plt.figure(figsize=(10, 8))\n",
    "ax = sns.countplot(x=\"primary_use\",data=train, order = train['primary_use'].value_counts().index)\n",
    "plt.title('Buiding type count (primary_use) feature column')\n",
    "ax.set_xticklabels(ax.get_xticklabels(), rotation=40, ha=\"right\")\n",
    "plt.show()"
   ]
  },
  {
   "cell_type": "code",
   "execution_count": 15,
   "metadata": {},
   "outputs": [
    {
     "data": {
      "image/png": "[encoded data removed]",
      "text/plain": [
       "<Figure size 1008x576 with 1 Axes>"
      ]
     },
     "metadata": {},
     "output_type": "display_data"
    }
   ],
   "source": [
    "\n",
    "building_id = 213\n",
    "plt.figure(figsize=(14, 8))\n",
    "ax = sns.lineplot(x=\"timestamp\", y=\"meter_reading\", hue=\"meter\", data=train[train['building_id'] == building_id])\n",
    "plt.title('Meter readings from building_id {}'.format(building_id))\n",
    "plt.show()"
   ]
  },
  {
   "cell_type": "code",
   "execution_count": 16,
   "metadata": {},
   "outputs": [
    {
     "data": {
      "text/html": [
       "<div>\n",
       "<style scoped>\n",
       "    .dataframe tbody tr th:only-of-type {\n",
       "        vertical-align: middle;\n",
       "    }\n",
       "\n",
       "    .dataframe tbody tr th {\n",
       "        vertical-align: top;\n",
       "    }\n",
       "\n",
       "    .dataframe thead th {\n",
       "        text-align: right;\n",
       "    }\n",
       "</style>\n",
       "<table border=\"1\" class=\"dataframe\">\n",
       "  <thead>\n",
       "    <tr style=\"text-align: right;\">\n",
       "      <th></th>\n",
       "      <th>building_id</th>\n",
       "      <th>meter</th>\n",
       "      <th>site_id</th>\n",
       "      <th>primary_use</th>\n",
       "      <th>square_feet</th>\n",
       "      <th>year_built</th>\n",
       "      <th>floor_count</th>\n",
       "      <th>air_temperature</th>\n",
       "      <th>cloud_coverage</th>\n",
       "      <th>dew_temperature</th>\n",
       "      <th>precip_depth_1_hr</th>\n",
       "      <th>sea_level_pressure</th>\n",
       "      <th>wind_direction</th>\n",
       "      <th>wind_speed</th>\n",
       "      <th>year</th>\n",
       "      <th>month</th>\n",
       "      <th>day</th>\n",
       "      <th>hour</th>\n",
       "      <th>weekend</th>\n",
       "    </tr>\n",
       "  </thead>\n",
       "  <tbody>\n",
       "    <tr>\n",
       "      <th>0</th>\n",
       "      <td>0</td>\n",
       "      <td>0</td>\n",
       "      <td>0</td>\n",
       "      <td>0</td>\n",
       "      <td>7432</td>\n",
       "      <td>2008.0</td>\n",
       "      <td>NaN</td>\n",
       "      <td>25.0</td>\n",
       "      <td>6.0</td>\n",
       "      <td>20.0</td>\n",
       "      <td>NaN</td>\n",
       "      <td>1019.5</td>\n",
       "      <td>0.0</td>\n",
       "      <td>0.0</td>\n",
       "      <td>2016</td>\n",
       "      <td>1</td>\n",
       "      <td>1</td>\n",
       "      <td>0</td>\n",
       "      <td>4</td>\n",
       "    </tr>\n",
       "    <tr>\n",
       "      <th>1</th>\n",
       "      <td>1</td>\n",
       "      <td>0</td>\n",
       "      <td>0</td>\n",
       "      <td>0</td>\n",
       "      <td>2720</td>\n",
       "      <td>2004.0</td>\n",
       "      <td>NaN</td>\n",
       "      <td>25.0</td>\n",
       "      <td>6.0</td>\n",
       "      <td>20.0</td>\n",
       "      <td>NaN</td>\n",
       "      <td>1019.5</td>\n",
       "      <td>0.0</td>\n",
       "      <td>0.0</td>\n",
       "      <td>2016</td>\n",
       "      <td>1</td>\n",
       "      <td>1</td>\n",
       "      <td>0</td>\n",
       "      <td>4</td>\n",
       "    </tr>\n",
       "    <tr>\n",
       "      <th>2</th>\n",
       "      <td>2</td>\n",
       "      <td>0</td>\n",
       "      <td>0</td>\n",
       "      <td>0</td>\n",
       "      <td>5376</td>\n",
       "      <td>1991.0</td>\n",
       "      <td>NaN</td>\n",
       "      <td>25.0</td>\n",
       "      <td>6.0</td>\n",
       "      <td>20.0</td>\n",
       "      <td>NaN</td>\n",
       "      <td>1019.5</td>\n",
       "      <td>0.0</td>\n",
       "      <td>0.0</td>\n",
       "      <td>2016</td>\n",
       "      <td>1</td>\n",
       "      <td>1</td>\n",
       "      <td>0</td>\n",
       "      <td>4</td>\n",
       "    </tr>\n",
       "    <tr>\n",
       "      <th>3</th>\n",
       "      <td>3</td>\n",
       "      <td>0</td>\n",
       "      <td>0</td>\n",
       "      <td>0</td>\n",
       "      <td>23685</td>\n",
       "      <td>2002.0</td>\n",
       "      <td>NaN</td>\n",
       "      <td>25.0</td>\n",
       "      <td>6.0</td>\n",
       "      <td>20.0</td>\n",
       "      <td>NaN</td>\n",
       "      <td>1019.5</td>\n",
       "      <td>0.0</td>\n",
       "      <td>0.0</td>\n",
       "      <td>2016</td>\n",
       "      <td>1</td>\n",
       "      <td>1</td>\n",
       "      <td>0</td>\n",
       "      <td>4</td>\n",
       "    </tr>\n",
       "    <tr>\n",
       "      <th>4</th>\n",
       "      <td>4</td>\n",
       "      <td>0</td>\n",
       "      <td>0</td>\n",
       "      <td>0</td>\n",
       "      <td>116607</td>\n",
       "      <td>1975.0</td>\n",
       "      <td>NaN</td>\n",
       "      <td>25.0</td>\n",
       "      <td>6.0</td>\n",
       "      <td>20.0</td>\n",
       "      <td>NaN</td>\n",
       "      <td>1019.5</td>\n",
       "      <td>0.0</td>\n",
       "      <td>0.0</td>\n",
       "      <td>2016</td>\n",
       "      <td>1</td>\n",
       "      <td>1</td>\n",
       "      <td>0</td>\n",
       "      <td>4</td>\n",
       "    </tr>\n",
       "  </tbody>\n",
       "</table>\n",
       "</div>"
      ],
      "text/plain": [
       "   building_id  meter  site_id  primary_use  square_feet  year_built  \\\n",
       "0            0      0        0            0         7432      2008.0   \n",
       "1            1      0        0            0         2720      2004.0   \n",
       "2            2      0        0            0         5376      1991.0   \n",
       "3            3      0        0            0        23685      2002.0   \n",
       "4            4      0        0            0       116607      1975.0   \n",
       "\n",
       "   floor_count  air_temperature  cloud_coverage  dew_temperature  \\\n",
       "0          NaN             25.0             6.0             20.0   \n",
       "1          NaN             25.0             6.0             20.0   \n",
       "2          NaN             25.0             6.0             20.0   \n",
       "3          NaN             25.0             6.0             20.0   \n",
       "4          NaN             25.0             6.0             20.0   \n",
       "\n",
       "   precip_depth_1_hr  sea_level_pressure  wind_direction  wind_speed  year  \\\n",
       "0                NaN              1019.5             0.0         0.0  2016   \n",
       "1                NaN              1019.5             0.0         0.0  2016   \n",
       "2                NaN              1019.5             0.0         0.0  2016   \n",
       "3                NaN              1019.5             0.0         0.0  2016   \n",
       "4                NaN              1019.5             0.0         0.0  2016   \n",
       "\n",
       "   month  day  hour  weekend  \n",
       "0      1    1     0        4  \n",
       "1      1    1     0        4  \n",
       "2      1    1     0        4  \n",
       "3      1    1     0        4  \n",
       "4      1    1     0        4  "
      ]
     },
     "execution_count": 16,
     "metadata": {},
     "output_type": "execute_result"
    }
   ],
   "source": [
    "train = drop_cols(train)\n",
    "\n",
    "train_y = np.log1p(train['meter_reading'])\n",
    "\n",
    "train_x = train.drop('meter_reading', axis=1)\n",
    "train_x['primary_use'] = LabelEncoder().fit_transform(train_x['primary_use'])\n",
    "\n",
    "train_x.head()"
   ]
  },
  {
   "cell_type": "code",
   "execution_count": 17,
   "metadata": {},
   "outputs": [
    {
     "data": {
      "text/plain": [
       "3630"
      ]
     },
     "execution_count": 17,
     "metadata": {},
     "output_type": "execute_result"
    }
   ],
   "source": [
    "del train\n",
    "#del train_x\n",
    "#del train_y \n",
    "\n",
    "gc.collect()"
   ]
  },
  {
   "cell_type": "markdown",
   "metadata": {},
   "source": [
    "## Creating the LightGBM model"
   ]
  },
  {
   "cell_type": "code",
   "execution_count": 18,
   "metadata": {},
   "outputs": [],
   "source": [
    "# Train and Validation splits\n",
    "test_size = 0.20\n",
    "X_train, X_val, y_train, y_val = train_test_split(train_x, train_y, test_size=test_size, random_state=SEED)"
   ]
  },
  {
   "cell_type": "code",
   "execution_count": 19,
   "metadata": {},
   "outputs": [],
   "source": [
    "  lgb_params = {\n",
    "                    'objective':'regression',\n",
    "                    'boosting_type':'gbdt',\n",
    "                    'metric':'rmse',\n",
    "                    'n_jobs':-1,\n",
    "                    'learning_rate':0.07,\n",
    "                    'num_leaves': 2**8,\n",
    "                    'max_depth':-1,\n",
    "                    'tree_learner':'serial',\n",
    "                    'colsample_bytree': 0.7,\n",
    "                    'subsample_freq':1,\n",
    "                    'subsample':0.5,\n",
    "                    'n_estimators':8500,\n",
    "                    'max_bin':255,\n",
    "                    'verbose':1,\n",
    "                    'seed': SEED,\n",
    "                    'early_stopping_rounds':3500, \n",
    "                } "
   ]
  },
  {
   "cell_type": "code",
   "execution_count": 20,
   "metadata": {},
   "outputs": [
    {
     "data": {
      "text/plain": [
       "7"
      ]
     },
     "execution_count": 20,
     "metadata": {},
     "output_type": "execute_result"
    }
   ],
   "source": [
    "del train_x\n",
    "del train_y\n",
    "\n",
    "gc.collect()"
   ]
  },
  {
   "cell_type": "code",
   "execution_count": 21,
   "metadata": {},
   "outputs": [],
   "source": [
    "# load model once already trained\n",
    "#print('Loading model')\n",
    "#gbm = lgb.Booster(model_file= PATH + 'lgb_classifier_24-10-2019.txt')"
   ]
  },
  {
   "cell_type": "code",
   "execution_count": 22,
   "metadata": {},
   "outputs": [
    {
     "name": "stderr",
     "output_type": "stream",
     "text": [
      "/anaconda/envs/py35/lib/python3.5/site-packages/lightgbm/engine.py:102: UserWarning: Found `n_estimators` in params. Will use it instead of argument\n",
      "  warnings.warn(\"Found `{}` in params. Will use it instead of argument\".format(alias))\n",
      "/anaconda/envs/py35/lib/python3.5/site-packages/lightgbm/engine.py:107: UserWarning: Found `early_stopping_rounds` in params. Will use it instead of argument\n",
      "  warnings.warn(\"Found `{}` in params. Will use it instead of argument\".format(alias))\n"
     ]
    },
    {
     "name": "stdout",
     "output_type": "stream",
     "text": [
      "Training until validation scores don't improve for 3500 rounds.\n",
      "[50]\ttraining's rmse: 1.11594\tvalid_1's rmse: 1.11477\n",
      "[100]\ttraining's rmse: 0.956311\tvalid_1's rmse: 0.955395\n",
      "[150]\ttraining's rmse: 0.884643\tvalid_1's rmse: 0.884169\n",
      "[200]\ttraining's rmse: 0.843284\tvalid_1's rmse: 0.843267\n",
      "[250]\ttraining's rmse: 0.810433\tvalid_1's rmse: 0.810881\n",
      "[300]\ttraining's rmse: 0.782482\tvalid_1's rmse: 0.783389\n",
      "[350]\ttraining's rmse: 0.765615\tvalid_1's rmse: 0.766962\n",
      "[400]\ttraining's rmse: 0.749006\tvalid_1's rmse: 0.750854\n",
      "[450]\ttraining's rmse: 0.732211\tvalid_1's rmse: 0.734492\n",
      "[500]\ttraining's rmse: 0.720293\tvalid_1's rmse: 0.723053\n",
      "[550]\ttraining's rmse: 0.707155\tvalid_1's rmse: 0.710459\n",
      "[600]\ttraining's rmse: 0.696821\tvalid_1's rmse: 0.70067\n",
      "[650]\ttraining's rmse: 0.68862\tvalid_1's rmse: 0.692862\n",
      "[700]\ttraining's rmse: 0.680826\tvalid_1's rmse: 0.685583\n",
      "[750]\ttraining's rmse: 0.674548\tvalid_1's rmse: 0.679767\n",
      "[800]\ttraining's rmse: 0.668201\tvalid_1's rmse: 0.673915\n",
      "[850]\ttraining's rmse: 0.660228\tvalid_1's rmse: 0.666512\n",
      "[900]\ttraining's rmse: 0.653995\tvalid_1's rmse: 0.660715\n",
      "[950]\ttraining's rmse: 0.647099\tvalid_1's rmse: 0.654287\n",
      "[1000]\ttraining's rmse: 0.641733\tvalid_1's rmse: 0.649394\n",
      "[1050]\ttraining's rmse: 0.637287\tvalid_1's rmse: 0.645497\n",
      "[1100]\ttraining's rmse: 0.632568\tvalid_1's rmse: 0.64127\n",
      "[1150]\ttraining's rmse: 0.627978\tvalid_1's rmse: 0.637135\n",
      "[1200]\ttraining's rmse: 0.623993\tvalid_1's rmse: 0.63366\n",
      "[1250]\ttraining's rmse: 0.620092\tvalid_1's rmse: 0.630208\n",
      "[1300]\ttraining's rmse: 0.61505\tvalid_1's rmse: 0.625609\n",
      "[1350]\ttraining's rmse: 0.611255\tvalid_1's rmse: 0.622345\n",
      "[1400]\ttraining's rmse: 0.607998\tvalid_1's rmse: 0.61957\n",
      "[1450]\ttraining's rmse: 0.604265\tvalid_1's rmse: 0.616296\n",
      "[1500]\ttraining's rmse: 0.601212\tvalid_1's rmse: 0.613692\n",
      "[1550]\ttraining's rmse: 0.597732\tvalid_1's rmse: 0.610645\n",
      "[1600]\ttraining's rmse: 0.594828\tvalid_1's rmse: 0.608193\n",
      "[1650]\ttraining's rmse: 0.59153\tvalid_1's rmse: 0.605271\n",
      "[1700]\ttraining's rmse: 0.588689\tvalid_1's rmse: 0.602857\n",
      "[1750]\ttraining's rmse: 0.585629\tvalid_1's rmse: 0.600243\n",
      "[1800]\ttraining's rmse: 0.58337\tvalid_1's rmse: 0.598395\n",
      "[1850]\ttraining's rmse: 0.580689\tvalid_1's rmse: 0.596137\n",
      "[1900]\ttraining's rmse: 0.578398\tvalid_1's rmse: 0.594298\n",
      "[1950]\ttraining's rmse: 0.575869\tvalid_1's rmse: 0.592172\n",
      "[2000]\ttraining's rmse: 0.573669\tvalid_1's rmse: 0.590373\n",
      "[2050]\ttraining's rmse: 0.571081\tvalid_1's rmse: 0.588227\n",
      "[2100]\ttraining's rmse: 0.568979\tvalid_1's rmse: 0.586565\n",
      "[2150]\ttraining's rmse: 0.566793\tvalid_1's rmse: 0.584747\n",
      "[2200]\ttraining's rmse: 0.565048\tvalid_1's rmse: 0.583373\n",
      "[2250]\ttraining's rmse: 0.56309\tvalid_1's rmse: 0.58187\n",
      "[2300]\ttraining's rmse: 0.561295\tvalid_1's rmse: 0.580435\n",
      "[2350]\ttraining's rmse: 0.559432\tvalid_1's rmse: 0.578918\n",
      "[2400]\ttraining's rmse: 0.557763\tvalid_1's rmse: 0.57765\n",
      "[2450]\ttraining's rmse: 0.555908\tvalid_1's rmse: 0.576145\n",
      "[2500]\ttraining's rmse: 0.553829\tvalid_1's rmse: 0.574534\n",
      "[2550]\ttraining's rmse: 0.551912\tvalid_1's rmse: 0.572991\n",
      "[2600]\ttraining's rmse: 0.550096\tvalid_1's rmse: 0.571581\n",
      "[2650]\ttraining's rmse: 0.548077\tvalid_1's rmse: 0.569964\n",
      "[2700]\ttraining's rmse: 0.546061\tvalid_1's rmse: 0.568387\n",
      "[2750]\ttraining's rmse: 0.544121\tvalid_1's rmse: 0.566862\n",
      "[2800]\ttraining's rmse: 0.542452\tvalid_1's rmse: 0.565598\n",
      "[2850]\ttraining's rmse: 0.540905\tvalid_1's rmse: 0.564385\n",
      "[2900]\ttraining's rmse: 0.539587\tvalid_1's rmse: 0.563481\n",
      "[2950]\ttraining's rmse: 0.538106\tvalid_1's rmse: 0.562368\n",
      "[3000]\ttraining's rmse: 0.536587\tvalid_1's rmse: 0.561244\n",
      "[3050]\ttraining's rmse: 0.534873\tvalid_1's rmse: 0.559907\n",
      "[3100]\ttraining's rmse: 0.533537\tvalid_1's rmse: 0.558957\n",
      "[3150]\ttraining's rmse: 0.532249\tvalid_1's rmse: 0.55807\n",
      "[3200]\ttraining's rmse: 0.530882\tvalid_1's rmse: 0.55705\n",
      "[3250]\ttraining's rmse: 0.529458\tvalid_1's rmse: 0.55597\n",
      "[3300]\ttraining's rmse: 0.528294\tvalid_1's rmse: 0.555134\n",
      "[3350]\ttraining's rmse: 0.52693\tvalid_1's rmse: 0.554084\n",
      "[3400]\ttraining's rmse: 0.525616\tvalid_1's rmse: 0.553112\n",
      "[3450]\ttraining's rmse: 0.524265\tvalid_1's rmse: 0.552171\n",
      "[3500]\ttraining's rmse: 0.523165\tvalid_1's rmse: 0.551434\n",
      "[3550]\ttraining's rmse: 0.522099\tvalid_1's rmse: 0.550727\n",
      "[3600]\ttraining's rmse: 0.52091\tvalid_1's rmse: 0.549907\n",
      "[3650]\ttraining's rmse: 0.519627\tvalid_1's rmse: 0.549003\n",
      "[3700]\ttraining's rmse: 0.518549\tvalid_1's rmse: 0.548301\n",
      "[3750]\ttraining's rmse: 0.517445\tvalid_1's rmse: 0.547567\n",
      "[3800]\ttraining's rmse: 0.516131\tvalid_1's rmse: 0.546634\n",
      "[3850]\ttraining's rmse: 0.515118\tvalid_1's rmse: 0.545959\n",
      "[3900]\ttraining's rmse: 0.514103\tvalid_1's rmse: 0.545285\n",
      "[3950]\ttraining's rmse: 0.512677\tvalid_1's rmse: 0.544221\n",
      "[4000]\ttraining's rmse: 0.511681\tvalid_1's rmse: 0.543537\n",
      "[4050]\ttraining's rmse: 0.510665\tvalid_1's rmse: 0.542879\n",
      "[4100]\ttraining's rmse: 0.509524\tvalid_1's rmse: 0.542114\n",
      "[4150]\ttraining's rmse: 0.508295\tvalid_1's rmse: 0.541218\n",
      "[4200]\ttraining's rmse: 0.507192\tvalid_1's rmse: 0.540477\n",
      "[4250]\ttraining's rmse: 0.506137\tvalid_1's rmse: 0.539769\n",
      "[4300]\ttraining's rmse: 0.505188\tvalid_1's rmse: 0.539159\n",
      "[4350]\ttraining's rmse: 0.504106\tvalid_1's rmse: 0.538426\n",
      "[4400]\ttraining's rmse: 0.503183\tvalid_1's rmse: 0.537832\n",
      "[4450]\ttraining's rmse: 0.502284\tvalid_1's rmse: 0.537319\n",
      "[4500]\ttraining's rmse: 0.50144\tvalid_1's rmse: 0.536798\n",
      "[4550]\ttraining's rmse: 0.500436\tvalid_1's rmse: 0.536128\n",
      "[4600]\ttraining's rmse: 0.499424\tvalid_1's rmse: 0.53546\n",
      "[4650]\ttraining's rmse: 0.498512\tvalid_1's rmse: 0.534896\n",
      "[4700]\ttraining's rmse: 0.497629\tvalid_1's rmse: 0.53434\n",
      "[4750]\ttraining's rmse: 0.496585\tvalid_1's rmse: 0.533692\n",
      "[4800]\ttraining's rmse: 0.495657\tvalid_1's rmse: 0.533109\n",
      "[4850]\ttraining's rmse: 0.494727\tvalid_1's rmse: 0.532551\n",
      "[4900]\ttraining's rmse: 0.49395\tvalid_1's rmse: 0.53213\n",
      "[4950]\ttraining's rmse: 0.493082\tvalid_1's rmse: 0.531633\n",
      "[5000]\ttraining's rmse: 0.492291\tvalid_1's rmse: 0.531188\n",
      "[5050]\ttraining's rmse: 0.491335\tvalid_1's rmse: 0.530558\n",
      "[5100]\ttraining's rmse: 0.490509\tvalid_1's rmse: 0.530056\n",
      "[5150]\ttraining's rmse: 0.489643\tvalid_1's rmse: 0.529547\n",
      "[5200]\ttraining's rmse: 0.48879\tvalid_1's rmse: 0.529072\n",
      "[5250]\ttraining's rmse: 0.488055\tvalid_1's rmse: 0.528646\n",
      "[5300]\ttraining's rmse: 0.487147\tvalid_1's rmse: 0.528103\n",
      "[5350]\ttraining's rmse: 0.486288\tvalid_1's rmse: 0.52757\n",
      "[5400]\ttraining's rmse: 0.485304\tvalid_1's rmse: 0.526889\n",
      "[5450]\ttraining's rmse: 0.4844\tvalid_1's rmse: 0.526343\n",
      "[5500]\ttraining's rmse: 0.483685\tvalid_1's rmse: 0.525955\n",
      "[5550]\ttraining's rmse: 0.483033\tvalid_1's rmse: 0.525613\n",
      "[5600]\ttraining's rmse: 0.482219\tvalid_1's rmse: 0.525081\n",
      "[5650]\ttraining's rmse: 0.481436\tvalid_1's rmse: 0.524614\n",
      "[5700]\ttraining's rmse: 0.480778\tvalid_1's rmse: 0.524249\n",
      "[5750]\ttraining's rmse: 0.480003\tvalid_1's rmse: 0.523764\n",
      "[5800]\ttraining's rmse: 0.47915\tvalid_1's rmse: 0.523234\n",
      "[5850]\ttraining's rmse: 0.478429\tvalid_1's rmse: 0.52285\n",
      "[5900]\ttraining's rmse: 0.477691\tvalid_1's rmse: 0.522432\n",
      "[5950]\ttraining's rmse: 0.477033\tvalid_1's rmse: 0.522089\n",
      "[6000]\ttraining's rmse: 0.476354\tvalid_1's rmse: 0.521713\n",
      "[6050]\ttraining's rmse: 0.47565\tvalid_1's rmse: 0.521285\n",
      "[6100]\ttraining's rmse: 0.474931\tvalid_1's rmse: 0.52088\n",
      "[6150]\ttraining's rmse: 0.474152\tvalid_1's rmse: 0.520411\n",
      "[6200]\ttraining's rmse: 0.4734\tvalid_1's rmse: 0.519944\n",
      "[6250]\ttraining's rmse: 0.472817\tvalid_1's rmse: 0.51965\n",
      "[6300]\ttraining's rmse: 0.472137\tvalid_1's rmse: 0.519277\n",
      "[6350]\ttraining's rmse: 0.471531\tvalid_1's rmse: 0.519003\n",
      "[6400]\ttraining's rmse: 0.470894\tvalid_1's rmse: 0.51865\n",
      "[6450]\ttraining's rmse: 0.470239\tvalid_1's rmse: 0.518308\n",
      "[6500]\ttraining's rmse: 0.469533\tvalid_1's rmse: 0.517903\n",
      "[6550]\ttraining's rmse: 0.468855\tvalid_1's rmse: 0.517583\n",
      "[6600]\ttraining's rmse: 0.468105\tvalid_1's rmse: 0.517143\n",
      "[6650]\ttraining's rmse: 0.467453\tvalid_1's rmse: 0.516789\n",
      "[6700]\ttraining's rmse: 0.466835\tvalid_1's rmse: 0.516473\n",
      "[6750]\ttraining's rmse: 0.466241\tvalid_1's rmse: 0.516215\n",
      "[6800]\ttraining's rmse: 0.465726\tvalid_1's rmse: 0.515984\n",
      "[6850]\ttraining's rmse: 0.465075\tvalid_1's rmse: 0.515635\n",
      "[6900]\ttraining's rmse: 0.464525\tvalid_1's rmse: 0.515389\n",
      "[6950]\ttraining's rmse: 0.463846\tvalid_1's rmse: 0.515\n",
      "[7000]\ttraining's rmse: 0.463183\tvalid_1's rmse: 0.514681\n",
      "[7050]\ttraining's rmse: 0.462512\tvalid_1's rmse: 0.514314\n",
      "[7100]\ttraining's rmse: 0.46197\tvalid_1's rmse: 0.514049\n"
     ]
    },
    {
     "name": "stdout",
     "output_type": "stream",
     "text": [
      "[7150]\ttraining's rmse: 0.46146\tvalid_1's rmse: 0.513835\n",
      "[7200]\ttraining's rmse: 0.460921\tvalid_1's rmse: 0.51359\n",
      "[7250]\ttraining's rmse: 0.460391\tvalid_1's rmse: 0.513332\n",
      "[7300]\ttraining's rmse: 0.4598\tvalid_1's rmse: 0.513028\n",
      "[7350]\ttraining's rmse: 0.459178\tvalid_1's rmse: 0.512656\n",
      "[7400]\ttraining's rmse: 0.458585\tvalid_1's rmse: 0.512367\n",
      "[7450]\ttraining's rmse: 0.457971\tvalid_1's rmse: 0.51205\n",
      "[7500]\ttraining's rmse: 0.457369\tvalid_1's rmse: 0.511764\n",
      "[7550]\ttraining's rmse: 0.45675\tvalid_1's rmse: 0.511453\n",
      "[7600]\ttraining's rmse: 0.45619\tvalid_1's rmse: 0.511161\n",
      "[7650]\ttraining's rmse: 0.45556\tvalid_1's rmse: 0.510833\n",
      "[7700]\ttraining's rmse: 0.454988\tvalid_1's rmse: 0.510546\n",
      "[7750]\ttraining's rmse: 0.454473\tvalid_1's rmse: 0.510281\n",
      "[7800]\ttraining's rmse: 0.45395\tvalid_1's rmse: 0.510047\n",
      "[7850]\ttraining's rmse: 0.453392\tvalid_1's rmse: 0.509785\n",
      "[7900]\ttraining's rmse: 0.452794\tvalid_1's rmse: 0.509491\n",
      "[7950]\ttraining's rmse: 0.452222\tvalid_1's rmse: 0.509212\n",
      "[8000]\ttraining's rmse: 0.451752\tvalid_1's rmse: 0.509008\n",
      "[8050]\ttraining's rmse: 0.451204\tvalid_1's rmse: 0.508754\n",
      "[8100]\ttraining's rmse: 0.450672\tvalid_1's rmse: 0.508527\n",
      "[8150]\ttraining's rmse: 0.450132\tvalid_1's rmse: 0.508266\n",
      "[8200]\ttraining's rmse: 0.449651\tvalid_1's rmse: 0.508058\n",
      "[8250]\ttraining's rmse: 0.449108\tvalid_1's rmse: 0.507804\n",
      "[8300]\ttraining's rmse: 0.4486\tvalid_1's rmse: 0.50761\n",
      "[8350]\ttraining's rmse: 0.448106\tvalid_1's rmse: 0.507366\n",
      "[8400]\ttraining's rmse: 0.44761\tvalid_1's rmse: 0.507162\n",
      "[8450]\ttraining's rmse: 0.447119\tvalid_1's rmse: 0.506939\n",
      "[8500]\ttraining's rmse: 0.446606\tvalid_1's rmse: 0.50671\n",
      "Did not meet early stopping. Best iteration is:\n",
      "[8500]\ttraining's rmse: 0.446606\tvalid_1's rmse: 0.50671\n"
     ]
    }
   ],
   "source": [
    "lgb_train = lgb.Dataset(X_train, y_train)\n",
    "lgb_eval = lgb.Dataset(X_val, y_val)\n",
    "gbm = lgb.train(lgb_params,\n",
    "            lgb_train,\n",
    "            num_boost_round=5000,\n",
    "            valid_sets=(lgb_train, lgb_eval),\n",
    "            verbose_eval = 50\n",
    "           )"
   ]
  },
  {
   "cell_type": "markdown",
   "metadata": {},
   "source": [
    "# Predicting validation data"
   ]
  },
  {
   "cell_type": "code",
   "execution_count": 23,
   "metadata": {},
   "outputs": [],
   "source": [
    "y_pred = gbm.predict(X_val, num_iteration=gbm.best_iteration)"
   ]
  },
  {
   "cell_type": "markdown",
   "metadata": {},
   "source": [
    "## Postprocessing"
   ]
  },
  {
   "cell_type": "code",
   "execution_count": 24,
   "metadata": {},
   "outputs": [],
   "source": [
    "fix_predictions(y_pred)"
   ]
  },
  {
   "cell_type": "markdown",
   "metadata": {},
   "source": [
    "## RMSLE "
   ]
  },
  {
   "cell_type": "code",
   "execution_count": 25,
   "metadata": {},
   "outputs": [
    {
     "name": "stdout",
     "output_type": "stream",
     "text": [
      "RMSLE:  0.18960864144176456\n"
     ]
    }
   ],
   "source": [
    "rmsle = np.sqrt(mean_squared_log_error(y_pred, (y_val)))\n",
    "print('RMSLE: ', rmsle)"
   ]
  },
  {
   "cell_type": "markdown",
   "metadata": {},
   "source": [
    "## Saving the model"
   ]
  },
  {
   "cell_type": "code",
   "execution_count": 26,
   "metadata": {},
   "outputs": [],
   "source": [
    "gbm.save_model('lgb_classifier_{}_{}.txt'.format(datetime.datetime.now().strftime(\"%d-%m-%Y\"), rmsle), num_iteration=gbm.best_iteration)"
   ]
  },
  {
   "cell_type": "markdown",
   "metadata": {},
   "source": [
    "## Feature Importance"
   ]
  },
  {
   "cell_type": "code",
   "execution_count": 27,
   "metadata": {},
   "outputs": [
    {
     "data": {
      "image/png": "[encoded data removed]",
      "text/plain": [
       "<Figure size 720x360 with 1 Axes>"
      ]
     },
     "metadata": {},
     "output_type": "display_data"
    }
   ],
   "source": [
    "feature_imp = pd.DataFrame(sorted(zip(gbm.feature_importance(), gbm.feature_name()),reverse = True), columns=['Value','Feature'])\n",
    "plt.figure(figsize=(10, 5))\n",
    "sns.barplot(x=\"Value\", y=\"Feature\", data=feature_imp.sort_values(by=\"Value\", ascending=False))\n",
    "plt.title('LightGBM Features')\n",
    "plt.tight_layout()\n",
    "plt.show()"
   ]
  },
  {
   "cell_type": "markdown",
   "metadata": {},
   "source": [
    "## Test preparation"
   ]
  },
  {
   "cell_type": "code",
   "execution_count": 31,
   "metadata": {},
   "outputs": [
    {
     "name": "stdout",
     "output_type": "stream",
     "text": [
      "Mem. usage decreased to  0.03 Mb (60.3% reduction)\n",
      "Mem. usage decreased to 596.49 Mb (53.1% reduction)\n",
      "Mem. usage decreased to  6.08 Mb (68.1% reduction)\n"
     ]
    },
    {
     "data": {
      "text/plain": [
       "256"
      ]
     },
     "execution_count": 31,
     "metadata": {},
     "output_type": "execute_result"
    }
   ],
   "source": [
    "building = reduce_mem_usage(pd.read_csv(PATH + 'building_metadata.csv'))\n",
    "test = reduce_mem_usage(pd.read_csv(PATH + \"test.csv\"))\n",
    "weather_test = reduce_mem_usage(pd.read_csv(PATH + \"weather_test.csv\"))\n",
    "\n",
    "test = test.merge(building, left_on = \"building_id\", right_on = \"building_id\", how = \"left\")\n",
    "test = test.merge(weather_test, left_on = [\"site_id\", \"timestamp\"], right_on = [\"site_id\", \"timestamp\"], how=\"left\")\n",
    "\n",
    "del weather_test\n",
    "del building\n",
    "gc.collect()"
   ]
  },
  {
   "cell_type": "code",
   "execution_count": 32,
   "metadata": {},
   "outputs": [
    {
     "data": {
      "text/html": [
       "<div>\n",
       "<style scoped>\n",
       "    .dataframe tbody tr th:only-of-type {\n",
       "        vertical-align: middle;\n",
       "    }\n",
       "\n",
       "    .dataframe tbody tr th {\n",
       "        vertical-align: top;\n",
       "    }\n",
       "\n",
       "    .dataframe thead th {\n",
       "        text-align: right;\n",
       "    }\n",
       "</style>\n",
       "<table border=\"1\" class=\"dataframe\">\n",
       "  <thead>\n",
       "    <tr style=\"text-align: right;\">\n",
       "      <th></th>\n",
       "      <th>row_id</th>\n",
       "      <th>building_id</th>\n",
       "      <th>meter</th>\n",
       "      <th>timestamp</th>\n",
       "      <th>site_id</th>\n",
       "      <th>primary_use</th>\n",
       "      <th>square_feet</th>\n",
       "      <th>year_built</th>\n",
       "      <th>floor_count</th>\n",
       "      <th>air_temperature</th>\n",
       "      <th>cloud_coverage</th>\n",
       "      <th>dew_temperature</th>\n",
       "      <th>precip_depth_1_hr</th>\n",
       "      <th>sea_level_pressure</th>\n",
       "      <th>wind_direction</th>\n",
       "      <th>wind_speed</th>\n",
       "    </tr>\n",
       "  </thead>\n",
       "  <tbody>\n",
       "    <tr>\n",
       "      <th>0</th>\n",
       "      <td>0</td>\n",
       "      <td>0</td>\n",
       "      <td>0</td>\n",
       "      <td>2017-01-01 00:00:00</td>\n",
       "      <td>0</td>\n",
       "      <td>Education</td>\n",
       "      <td>7432</td>\n",
       "      <td>2008.0</td>\n",
       "      <td>NaN</td>\n",
       "      <td>17.796875</td>\n",
       "      <td>4.0</td>\n",
       "      <td>11.703125</td>\n",
       "      <td>NaN</td>\n",
       "      <td>1021.5</td>\n",
       "      <td>100.0</td>\n",
       "      <td>3.599609</td>\n",
       "    </tr>\n",
       "    <tr>\n",
       "      <th>1</th>\n",
       "      <td>1</td>\n",
       "      <td>1</td>\n",
       "      <td>0</td>\n",
       "      <td>2017-01-01 00:00:00</td>\n",
       "      <td>0</td>\n",
       "      <td>Education</td>\n",
       "      <td>2720</td>\n",
       "      <td>2004.0</td>\n",
       "      <td>NaN</td>\n",
       "      <td>17.796875</td>\n",
       "      <td>4.0</td>\n",
       "      <td>11.703125</td>\n",
       "      <td>NaN</td>\n",
       "      <td>1021.5</td>\n",
       "      <td>100.0</td>\n",
       "      <td>3.599609</td>\n",
       "    </tr>\n",
       "    <tr>\n",
       "      <th>2</th>\n",
       "      <td>2</td>\n",
       "      <td>2</td>\n",
       "      <td>0</td>\n",
       "      <td>2017-01-01 00:00:00</td>\n",
       "      <td>0</td>\n",
       "      <td>Education</td>\n",
       "      <td>5376</td>\n",
       "      <td>1991.0</td>\n",
       "      <td>NaN</td>\n",
       "      <td>17.796875</td>\n",
       "      <td>4.0</td>\n",
       "      <td>11.703125</td>\n",
       "      <td>NaN</td>\n",
       "      <td>1021.5</td>\n",
       "      <td>100.0</td>\n",
       "      <td>3.599609</td>\n",
       "    </tr>\n",
       "    <tr>\n",
       "      <th>3</th>\n",
       "      <td>3</td>\n",
       "      <td>3</td>\n",
       "      <td>0</td>\n",
       "      <td>2017-01-01 00:00:00</td>\n",
       "      <td>0</td>\n",
       "      <td>Education</td>\n",
       "      <td>23685</td>\n",
       "      <td>2002.0</td>\n",
       "      <td>NaN</td>\n",
       "      <td>17.796875</td>\n",
       "      <td>4.0</td>\n",
       "      <td>11.703125</td>\n",
       "      <td>NaN</td>\n",
       "      <td>1021.5</td>\n",
       "      <td>100.0</td>\n",
       "      <td>3.599609</td>\n",
       "    </tr>\n",
       "    <tr>\n",
       "      <th>4</th>\n",
       "      <td>4</td>\n",
       "      <td>4</td>\n",
       "      <td>0</td>\n",
       "      <td>2017-01-01 00:00:00</td>\n",
       "      <td>0</td>\n",
       "      <td>Education</td>\n",
       "      <td>116607</td>\n",
       "      <td>1975.0</td>\n",
       "      <td>NaN</td>\n",
       "      <td>17.796875</td>\n",
       "      <td>4.0</td>\n",
       "      <td>11.703125</td>\n",
       "      <td>NaN</td>\n",
       "      <td>1021.5</td>\n",
       "      <td>100.0</td>\n",
       "      <td>3.599609</td>\n",
       "    </tr>\n",
       "  </tbody>\n",
       "</table>\n",
       "</div>"
      ],
      "text/plain": [
       "   row_id  building_id  meter            timestamp  site_id primary_use  \\\n",
       "0       0            0      0  2017-01-01 00:00:00        0   Education   \n",
       "1       1            1      0  2017-01-01 00:00:00        0   Education   \n",
       "2       2            2      0  2017-01-01 00:00:00        0   Education   \n",
       "3       3            3      0  2017-01-01 00:00:00        0   Education   \n",
       "4       4            4      0  2017-01-01 00:00:00        0   Education   \n",
       "\n",
       "   square_feet  year_built  floor_count  air_temperature  cloud_coverage  \\\n",
       "0         7432      2008.0          NaN        17.796875             4.0   \n",
       "1         2720      2004.0          NaN        17.796875             4.0   \n",
       "2         5376      1991.0          NaN        17.796875             4.0   \n",
       "3        23685      2002.0          NaN        17.796875             4.0   \n",
       "4       116607      1975.0          NaN        17.796875             4.0   \n",
       "\n",
       "   dew_temperature  precip_depth_1_hr  sea_level_pressure  wind_direction  \\\n",
       "0        11.703125                NaN              1021.5           100.0   \n",
       "1        11.703125                NaN              1021.5           100.0   \n",
       "2        11.703125                NaN              1021.5           100.0   \n",
       "3        11.703125                NaN              1021.5           100.0   \n",
       "4        11.703125                NaN              1021.5           100.0   \n",
       "\n",
       "   wind_speed  \n",
       "0    3.599609  \n",
       "1    3.599609  \n",
       "2    3.599609  \n",
       "3    3.599609  \n",
       "4    3.599609  "
      ]
     },
     "execution_count": 32,
     "metadata": {},
     "output_type": "execute_result"
    }
   ],
   "source": [
    "test.head()"
   ]
  },
  {
   "cell_type": "code",
   "execution_count": 33,
   "metadata": {},
   "outputs": [],
   "source": [
    "clean_timestamps(test)\n",
    "test = drop_cols(test)\n",
    "test = test.drop('row_id', axis = 1)\n",
    "test['primary_use'] = LabelEncoder().fit_transform(test['primary_use'])"
   ]
  },
  {
   "cell_type": "code",
   "execution_count": 34,
   "metadata": {},
   "outputs": [],
   "source": [
    "submission = pd.read_csv('ashrae-energy-prediction/sample_submission.csv')"
   ]
  },
  {
   "cell_type": "code",
   "execution_count": 35,
   "metadata": {},
   "outputs": [
    {
     "data": {
      "text/plain": [
       "111"
      ]
     },
     "execution_count": 35,
     "metadata": {},
     "output_type": "execute_result"
    }
   ],
   "source": [
    "test_1 = test[:len(test)//3]\n",
    "y_pred_1 = gbm.predict(test_1, num_iteration=gbm.best_iteration)\n",
    "\n",
    "del test_1\n",
    "\n",
    "gc.collect()"
   ]
  },
  {
   "cell_type": "code",
   "execution_count": 36,
   "metadata": {},
   "outputs": [
    {
     "data": {
      "text/plain": [
       "7"
      ]
     },
     "execution_count": 36,
     "metadata": {},
     "output_type": "execute_result"
    }
   ],
   "source": [
    "test_2 = test[len(test)//3:(len(test)*2)//3]\n",
    "y_pred_2 = gbm.predict(test_2, num_iteration=gbm.best_iteration)\n",
    "\n",
    "del test_2\n",
    "\n",
    "gc.collect()"
   ]
  },
  {
   "cell_type": "code",
   "execution_count": 37,
   "metadata": {},
   "outputs": [
    {
     "data": {
      "text/plain": [
       "7"
      ]
     },
     "execution_count": 37,
     "metadata": {},
     "output_type": "execute_result"
    }
   ],
   "source": [
    "test_3 = test[(len(test)*2)//3:]\n",
    "y_pred_3 = gbm.predict(test_3, num_iteration=gbm.best_iteration)\n",
    "\n",
    "del test_3\n",
    "\n",
    "gc.collect()"
   ]
  },
  {
   "cell_type": "code",
   "execution_count": 38,
   "metadata": {},
   "outputs": [
    {
     "data": {
      "text/plain": [
       "0"
      ]
     },
     "execution_count": 38,
     "metadata": {},
     "output_type": "execute_result"
    }
   ],
   "source": [
    "y_pred = np.concatenate([y_pred_1, y_pred_2, y_pred_3], axis=0)\n",
    "\n",
    "del y_pred_1\n",
    "del y_pred_2\n",
    "del y_pred_3\n",
    "\n",
    "gc.collect()"
   ]
  },
  {
   "cell_type": "code",
   "execution_count": 39,
   "metadata": {},
   "outputs": [
    {
     "data": {
      "text/html": [
       "<div>\n",
       "<style scoped>\n",
       "    .dataframe tbody tr th:only-of-type {\n",
       "        vertical-align: middle;\n",
       "    }\n",
       "\n",
       "    .dataframe tbody tr th {\n",
       "        vertical-align: top;\n",
       "    }\n",
       "\n",
       "    .dataframe thead th {\n",
       "        text-align: right;\n",
       "    }\n",
       "</style>\n",
       "<table border=\"1\" class=\"dataframe\">\n",
       "  <thead>\n",
       "    <tr style=\"text-align: right;\">\n",
       "      <th></th>\n",
       "      <th>row_id</th>\n",
       "      <th>meter_reading</th>\n",
       "    </tr>\n",
       "  </thead>\n",
       "  <tbody>\n",
       "    <tr>\n",
       "      <th>0</th>\n",
       "      <td>0</td>\n",
       "      <td>0.271430</td>\n",
       "    </tr>\n",
       "    <tr>\n",
       "      <th>1</th>\n",
       "      <td>1</td>\n",
       "      <td>0.432878</td>\n",
       "    </tr>\n",
       "    <tr>\n",
       "      <th>2</th>\n",
       "      <td>2</td>\n",
       "      <td>0.283880</td>\n",
       "    </tr>\n",
       "    <tr>\n",
       "      <th>3</th>\n",
       "      <td>3</td>\n",
       "      <td>0.273937</td>\n",
       "    </tr>\n",
       "    <tr>\n",
       "      <th>4</th>\n",
       "      <td>4</td>\n",
       "      <td>0.506358</td>\n",
       "    </tr>\n",
       "    <tr>\n",
       "      <th>5</th>\n",
       "      <td>5</td>\n",
       "      <td>0.339144</td>\n",
       "    </tr>\n",
       "    <tr>\n",
       "      <th>6</th>\n",
       "      <td>6</td>\n",
       "      <td>0.586382</td>\n",
       "    </tr>\n",
       "    <tr>\n",
       "      <th>7</th>\n",
       "      <td>7</td>\n",
       "      <td>0.572591</td>\n",
       "    </tr>\n",
       "    <tr>\n",
       "      <th>8</th>\n",
       "      <td>8</td>\n",
       "      <td>432.764301</td>\n",
       "    </tr>\n",
       "    <tr>\n",
       "      <th>9</th>\n",
       "      <td>9</td>\n",
       "      <td>0.335379</td>\n",
       "    </tr>\n",
       "    <tr>\n",
       "      <th>10</th>\n",
       "      <td>10</td>\n",
       "      <td>0.450805</td>\n",
       "    </tr>\n",
       "    <tr>\n",
       "      <th>11</th>\n",
       "      <td>11</td>\n",
       "      <td>6.911036</td>\n",
       "    </tr>\n",
       "    <tr>\n",
       "      <th>12</th>\n",
       "      <td>12</td>\n",
       "      <td>0.295213</td>\n",
       "    </tr>\n",
       "    <tr>\n",
       "      <th>13</th>\n",
       "      <td>13</td>\n",
       "      <td>0.476313</td>\n",
       "    </tr>\n",
       "    <tr>\n",
       "      <th>14</th>\n",
       "      <td>14</td>\n",
       "      <td>0.402260</td>\n",
       "    </tr>\n",
       "    <tr>\n",
       "      <th>15</th>\n",
       "      <td>15</td>\n",
       "      <td>0.358466</td>\n",
       "    </tr>\n",
       "    <tr>\n",
       "      <th>16</th>\n",
       "      <td>16</td>\n",
       "      <td>0.531339</td>\n",
       "    </tr>\n",
       "    <tr>\n",
       "      <th>17</th>\n",
       "      <td>17</td>\n",
       "      <td>0.282662</td>\n",
       "    </tr>\n",
       "    <tr>\n",
       "      <th>18</th>\n",
       "      <td>18</td>\n",
       "      <td>112.136777</td>\n",
       "    </tr>\n",
       "    <tr>\n",
       "      <th>19</th>\n",
       "      <td>19</td>\n",
       "      <td>0.305700</td>\n",
       "    </tr>\n",
       "    <tr>\n",
       "      <th>20</th>\n",
       "      <td>20</td>\n",
       "      <td>35.900610</td>\n",
       "    </tr>\n",
       "    <tr>\n",
       "      <th>21</th>\n",
       "      <td>21</td>\n",
       "      <td>0.429767</td>\n",
       "    </tr>\n",
       "    <tr>\n",
       "      <th>22</th>\n",
       "      <td>22</td>\n",
       "      <td>0.300257</td>\n",
       "    </tr>\n",
       "    <tr>\n",
       "      <th>23</th>\n",
       "      <td>23</td>\n",
       "      <td>0.453895</td>\n",
       "    </tr>\n",
       "    <tr>\n",
       "      <th>24</th>\n",
       "      <td>24</td>\n",
       "      <td>0.381051</td>\n",
       "    </tr>\n",
       "    <tr>\n",
       "      <th>25</th>\n",
       "      <td>25</td>\n",
       "      <td>0.487570</td>\n",
       "    </tr>\n",
       "    <tr>\n",
       "      <th>26</th>\n",
       "      <td>26</td>\n",
       "      <td>0.317627</td>\n",
       "    </tr>\n",
       "    <tr>\n",
       "      <th>27</th>\n",
       "      <td>27</td>\n",
       "      <td>0.348246</td>\n",
       "    </tr>\n",
       "    <tr>\n",
       "      <th>28</th>\n",
       "      <td>28</td>\n",
       "      <td>0.413439</td>\n",
       "    </tr>\n",
       "    <tr>\n",
       "      <th>29</th>\n",
       "      <td>29</td>\n",
       "      <td>0.465511</td>\n",
       "    </tr>\n",
       "    <tr>\n",
       "      <th>...</th>\n",
       "      <td>...</td>\n",
       "      <td>...</td>\n",
       "    </tr>\n",
       "    <tr>\n",
       "      <th>41697570</th>\n",
       "      <td>41697570</td>\n",
       "      <td>3519.105090</td>\n",
       "    </tr>\n",
       "    <tr>\n",
       "      <th>41697571</th>\n",
       "      <td>41697571</td>\n",
       "      <td>32.762895</td>\n",
       "    </tr>\n",
       "    <tr>\n",
       "      <th>41697572</th>\n",
       "      <td>41697572</td>\n",
       "      <td>30.855806</td>\n",
       "    </tr>\n",
       "    <tr>\n",
       "      <th>41697573</th>\n",
       "      <td>41697573</td>\n",
       "      <td>230.610010</td>\n",
       "    </tr>\n",
       "    <tr>\n",
       "      <th>41697574</th>\n",
       "      <td>41697574</td>\n",
       "      <td>260.005160</td>\n",
       "    </tr>\n",
       "    <tr>\n",
       "      <th>41697575</th>\n",
       "      <td>41697575</td>\n",
       "      <td>98.476153</td>\n",
       "    </tr>\n",
       "    <tr>\n",
       "      <th>41697576</th>\n",
       "      <td>41697576</td>\n",
       "      <td>222.344551</td>\n",
       "    </tr>\n",
       "    <tr>\n",
       "      <th>41697577</th>\n",
       "      <td>41697577</td>\n",
       "      <td>443.115867</td>\n",
       "    </tr>\n",
       "    <tr>\n",
       "      <th>41697578</th>\n",
       "      <td>41697578</td>\n",
       "      <td>21.802122</td>\n",
       "    </tr>\n",
       "    <tr>\n",
       "      <th>41697579</th>\n",
       "      <td>41697579</td>\n",
       "      <td>341.497052</td>\n",
       "    </tr>\n",
       "    <tr>\n",
       "      <th>41697580</th>\n",
       "      <td>41697580</td>\n",
       "      <td>62.602790</td>\n",
       "    </tr>\n",
       "    <tr>\n",
       "      <th>41697581</th>\n",
       "      <td>41697581</td>\n",
       "      <td>205.676164</td>\n",
       "    </tr>\n",
       "    <tr>\n",
       "      <th>41697582</th>\n",
       "      <td>41697582</td>\n",
       "      <td>5.072702</td>\n",
       "    </tr>\n",
       "    <tr>\n",
       "      <th>41697583</th>\n",
       "      <td>41697583</td>\n",
       "      <td>11.384561</td>\n",
       "    </tr>\n",
       "    <tr>\n",
       "      <th>41697584</th>\n",
       "      <td>41697584</td>\n",
       "      <td>1287.022831</td>\n",
       "    </tr>\n",
       "    <tr>\n",
       "      <th>41697585</th>\n",
       "      <td>41697585</td>\n",
       "      <td>411.727046</td>\n",
       "    </tr>\n",
       "    <tr>\n",
       "      <th>41697586</th>\n",
       "      <td>41697586</td>\n",
       "      <td>1089.120651</td>\n",
       "    </tr>\n",
       "    <tr>\n",
       "      <th>41697587</th>\n",
       "      <td>41697587</td>\n",
       "      <td>153.527392</td>\n",
       "    </tr>\n",
       "    <tr>\n",
       "      <th>41697588</th>\n",
       "      <td>41697588</td>\n",
       "      <td>483.239103</td>\n",
       "    </tr>\n",
       "    <tr>\n",
       "      <th>41697589</th>\n",
       "      <td>41697589</td>\n",
       "      <td>126.468484</td>\n",
       "    </tr>\n",
       "    <tr>\n",
       "      <th>41697590</th>\n",
       "      <td>41697590</td>\n",
       "      <td>194.803953</td>\n",
       "    </tr>\n",
       "    <tr>\n",
       "      <th>41697591</th>\n",
       "      <td>41697591</td>\n",
       "      <td>153.277998</td>\n",
       "    </tr>\n",
       "    <tr>\n",
       "      <th>41697592</th>\n",
       "      <td>41697592</td>\n",
       "      <td>62.251569</td>\n",
       "    </tr>\n",
       "    <tr>\n",
       "      <th>41697593</th>\n",
       "      <td>41697593</td>\n",
       "      <td>5.530977</td>\n",
       "    </tr>\n",
       "    <tr>\n",
       "      <th>41697594</th>\n",
       "      <td>41697594</td>\n",
       "      <td>54.200989</td>\n",
       "    </tr>\n",
       "    <tr>\n",
       "      <th>41697595</th>\n",
       "      <td>41697595</td>\n",
       "      <td>3.196752</td>\n",
       "    </tr>\n",
       "    <tr>\n",
       "      <th>41697596</th>\n",
       "      <td>41697596</td>\n",
       "      <td>3.470976</td>\n",
       "    </tr>\n",
       "    <tr>\n",
       "      <th>41697597</th>\n",
       "      <td>41697597</td>\n",
       "      <td>2.364975</td>\n",
       "    </tr>\n",
       "    <tr>\n",
       "      <th>41697598</th>\n",
       "      <td>41697598</td>\n",
       "      <td>101.498197</td>\n",
       "    </tr>\n",
       "    <tr>\n",
       "      <th>41697599</th>\n",
       "      <td>41697599</td>\n",
       "      <td>1.738554</td>\n",
       "    </tr>\n",
       "  </tbody>\n",
       "</table>\n",
       "<p>41697600 rows × 2 columns</p>\n",
       "</div>"
      ],
      "text/plain": [
       "            row_id  meter_reading\n",
       "0                0       0.271430\n",
       "1                1       0.432878\n",
       "2                2       0.283880\n",
       "3                3       0.273937\n",
       "4                4       0.506358\n",
       "5                5       0.339144\n",
       "6                6       0.586382\n",
       "7                7       0.572591\n",
       "8                8     432.764301\n",
       "9                9       0.335379\n",
       "10              10       0.450805\n",
       "11              11       6.911036\n",
       "12              12       0.295213\n",
       "13              13       0.476313\n",
       "14              14       0.402260\n",
       "15              15       0.358466\n",
       "16              16       0.531339\n",
       "17              17       0.282662\n",
       "18              18     112.136777\n",
       "19              19       0.305700\n",
       "20              20      35.900610\n",
       "21              21       0.429767\n",
       "22              22       0.300257\n",
       "23              23       0.453895\n",
       "24              24       0.381051\n",
       "25              25       0.487570\n",
       "26              26       0.317627\n",
       "27              27       0.348246\n",
       "28              28       0.413439\n",
       "29              29       0.465511\n",
       "...            ...            ...\n",
       "41697570  41697570    3519.105090\n",
       "41697571  41697571      32.762895\n",
       "41697572  41697572      30.855806\n",
       "41697573  41697573     230.610010\n",
       "41697574  41697574     260.005160\n",
       "41697575  41697575      98.476153\n",
       "41697576  41697576     222.344551\n",
       "41697577  41697577     443.115867\n",
       "41697578  41697578      21.802122\n",
       "41697579  41697579     341.497052\n",
       "41697580  41697580      62.602790\n",
       "41697581  41697581     205.676164\n",
       "41697582  41697582       5.072702\n",
       "41697583  41697583      11.384561\n",
       "41697584  41697584    1287.022831\n",
       "41697585  41697585     411.727046\n",
       "41697586  41697586    1089.120651\n",
       "41697587  41697587     153.527392\n",
       "41697588  41697588     483.239103\n",
       "41697589  41697589     126.468484\n",
       "41697590  41697590     194.803953\n",
       "41697591  41697591     153.277998\n",
       "41697592  41697592      62.251569\n",
       "41697593  41697593       5.530977\n",
       "41697594  41697594      54.200989\n",
       "41697595  41697595       3.196752\n",
       "41697596  41697596       3.470976\n",
       "41697597  41697597       2.364975\n",
       "41697598  41697598     101.498197\n",
       "41697599  41697599       1.738554\n",
       "\n",
       "[41697600 rows x 2 columns]"
      ]
     },
     "execution_count": 39,
     "metadata": {},
     "output_type": "execute_result"
    }
   ],
   "source": [
    "y_pred = np.expm1(y_pred)\n",
    "fix_predictions(y_pred)\n",
    "submission['meter_reading'] = y_pred\n",
    "submission"
   ]
  },
  {
   "cell_type": "markdown",
   "metadata": {},
   "source": [
    "## Submission"
   ]
  },
  {
   "cell_type": "code",
   "execution_count": 40,
   "metadata": {},
   "outputs": [],
   "source": [
    "submission.to_csv('submission.csv', index=False)"
   ]
  },
  {
   "cell_type": "code",
   "execution_count": 41,
   "metadata": {},
   "outputs": [
    {
     "name": "stdout",
     "output_type": "stream",
     "text": [
      "Warning: Your Kaggle API key is readable by other users on this system! To fix this, you can run 'chmod 600 /home/kaggle/.kaggle/kaggle.json'\n",
      "100%|██████████████████████████████████████| 1.04G/1.04G [00:37<00:00, 29.9MB/s]\n",
      "Successfully submitted to ASHRAE - Great Energy Predictor III"
     ]
    }
   ],
   "source": [
    "!kaggle competitions submit -c ashrae-energy-prediction -f submission.csv -m \"First submission!\"\n"
   ]
  },
  {
   "cell_type": "code",
   "execution_count": null,
   "metadata": {},
   "outputs": [],
   "source": []
  }
 ],
 "metadata": {
  "kernelspec": {
   "display_name": "Python 3.5",
   "language": "python",
   "name": "python3"
  },
  "language_info": {
   "codemirror_mode": {
    "name": "ipython",
    "version": 3
   },
   "file_extension": ".py",
   "mimetype": "text/x-python",
   "name": "python",
   "nbconvert_exporter": "python",
   "pygments_lexer": "ipython3",
   "version": "3.5.5"
  }
 },
 "nbformat": 4,
 "nbformat_minor": 2
}
